{
 "cells": [
  {
   "cell_type": "markdown",
   "metadata": {},
   "source": [
    "**Variable and type***"
   ]
  },
  {
   "cell_type": "code",
   "execution_count": 2,
   "metadata": {},
   "outputs": [],
   "source": [
    "names :str = \"Hello Zeehshan\"\n",
    "father_name : str = \"Anwar Ul Hassan\""
   ]
  },
  {
   "cell_type": "markdown",
   "metadata": {},
   "source": [
    "**f-string**"
   ]
  },
  {
   "cell_type": "code",
   "execution_count": 5,
   "metadata": {},
   "outputs": [
    {
     "name": "stdout",
     "output_type": "stream",
     "text": [
      "Hello Zeehshan\n",
      "<class 'str'>\n",
      "2253997300272\n"
     ]
    }
   ],
   "source": [
    "print(names)\n",
    "print(type(names))\n",
    "print(id(names))"
   ]
  },
  {
   "cell_type": "code",
   "execution_count": 13,
   "metadata": {},
   "outputs": [
    {
     "name": "stdout",
     "output_type": "stream",
     "text": [
      "Hi i am learning Python from youtube \n",
      " i learn previous \t years\n"
     ]
    }
   ],
   "source": [
    "#using of \\n and \\t for checking the line \n",
    "test :str = \"Hi i am learning Python from youtube \\n i learn previous \\t years\"\n",
    "print(test)"
   ]
  },
  {
   "cell_type": "code",
   "execution_count": 6,
   "metadata": {},
   "outputs": [],
   "source": [
    "name :str = \"Zeeshan Anwar \"\n",
    "age :int = 30\n",
    "education : str = \"Doing Bachlour Simply\"\n"
   ]
  },
  {
   "cell_type": "code",
   "execution_count": 10,
   "metadata": {},
   "outputs": [
    {
     "name": "stdout",
     "output_type": "stream",
     "text": [
      "Hi am Zeeshan Anwar \n",
      "  Age30\n"
     ]
    }
   ],
   "source": [
    "card : str = \"Hi am \" + name + \"\\n  Age\" + str(age)\n",
    "\n",
    "print(card)"
   ]
  }
 ],
 "metadata": {
  "kernelspec": {
   "display_name": "Python 3",
   "language": "python",
   "name": "python3"
  },
  "language_info": {
   "codemirror_mode": {
    "name": "ipython",
    "version": 3
   },
   "file_extension": ".py",
   "mimetype": "text/x-python",
   "name": "python",
   "nbconvert_exporter": "python",
   "pygments_lexer": "ipython3",
   "version": "3.12.0"
  }
 },
 "nbformat": 4,
 "nbformat_minor": 2
}
